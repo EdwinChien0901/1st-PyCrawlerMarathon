{
 "cells": [
  {
   "cell_type": "markdown",
   "metadata": {},
   "source": [
    "# 其他工具：Grab、PyQuery\n",
    "\n",
    "\n",
    "* 利用 Grab 套件的存取 HTML 資源\n",
    "* 利用 PyQuery 套件的解析 HTML 格式\n"
   ]
  },
  {
   "cell_type": "markdown",
   "metadata": {},
   "source": [
    "## 作業目標\n",
    "\n",
    "將之前用 requests + beatifulsoup 實作的方式，改寫成 grab + pyquery，並且比較有哪些地方不同。\n",
    "\n",
    "\n",
    "\n"
   ]
  },
  {
   "cell_type": "markdown",
   "metadata": {},
   "source": [
    "## requests + BeautifulSoup\n"
   ]
  },
  {
   "cell_type": "code",
   "execution_count": 1,
   "metadata": {},
   "outputs": [],
   "source": [
    "import requests\n",
    "from bs4 import BeautifulSoup\n",
    "from grab import Grab as g\n",
    "from pyquery import PyQuery as pq\n",
    "\n",
    "url = 'https://google.com'"
   ]
  },
  {
   "cell_type": "code",
   "execution_count": 2,
   "metadata": {},
   "outputs": [
    {
     "name": "stdout",
     "output_type": "stream",
     "text": [
      "<!DOCTYPE html PUBLIC \"-//W3C//DTD HTML 4.01 Transitional//EN\">\n",
      "<html><head><meta content=\"text/html; charset=utf-8\" http-equiv=\"content-type\"/><meta content=\"initial-scale=1\" name=\"viewport\"/><title>https://google.com/</title></head>\n",
      "<body onload=\"e=document.getElementById('captcha');if(e){e.focus();}\" style=\"font-family: arial, sans-serif; background-color: #fff; color: #000; padding:20px; font-size:18px;\">\n",
      "<div style=\"max-width:400px;\">\n",
      "<hr noshade=\"\" size=\"1\" style=\"color:#ccc; background-color:#ccc;\"/><br/>\n",
      "<form action=\"index\" id=\"captcha-form\" method=\"post\">\n",
      "<script async=\"\" defer=\"\" src=\"https://www.google.com/recaptcha/api.js\"></script>\n",
      "<script>var submitCallback = function(response) {document.getElementById('captcha-form').submit();};</script>\n",
      "<div class=\"g-recaptcha\" data-callback=\"submitCallback\" data-s=\"iqiosyGThYQw831b_zsHgI37duktZ8QwS410jG3sUoRiVK8ikldQHthSsufY1EG9xmoFukMwHor0Jjwr1aMiacOY8YL69MnewlSFt6sFgErdkD5WAmpVevEOcNC6wCyny008rhPebyZAoAUQ3nGNR84zdOotpn_WQJ8har5wApSLnMfZXSxd2VHXanYJ6V1vd56uG1KXHA8qYrkgNeZHd3DiTbEuqJzhDqpAAoTkBCpRMOor1pH3opw\" data-sitekey=\"6LfwuyUTAAAAAOAmoS0fdqijC2PbbdH4kjq62Y1b\" id=\"recaptcha\"></div>\n",
      "<input name=\"q\" type=\"hidden\" value=\"EgRv-BLaGOzO_e8FIhkA8aeDS5B-YFENn8JKdvibUptBZLFN8T0_MgFy\"/><input name=\"continue\" type=\"hidden\" value=\"https://google.com/\"/>\n",
      "</form>\n",
      "<hr noshade=\"\" size=\"1\" style=\"color:#ccc; background-color:#ccc;\"/>\n",
      "\n",
      "<div style=\"font-size:13px;\">\n",
      "<b>About this page</b><br/><br/>\n",
      "\n",
      "Our systems have detected unusual traffic from your computer network.  This page checks to see if it's really you sending the requests, and not a robot.  <a href=\"#\" onclick=\"document.getElementById('infoDiv').style.display='block';\">Why did this happen?</a><br/><br/>\n",
      "\n",
      "<div id=\"infoDiv\" style=\"display:none; background-color:#eee; padding:10px; margin:0 0 15px 0; line-height:1.4em;\">\n",
      "This page appears when Google automatically detects requests coming from your computer network which appear to be in violation of the <a href=\"//www.google.com/policies/terms/\">Terms of Service</a>. The block will expire shortly after those requests stop.  In the meantime, solving the above CAPTCHA will let you continue to use our services.<br/><br/>This traffic may have been sent by malicious software, a browser plug-in, or a script that sends automated requests.  If you share your network connection, ask your administrator for help — a different computer using the same IP address may be responsible.  <a href=\"//support.google.com/websearch/answer/86640\">Learn more</a><br/><br/>Sometimes you may be asked to solve the CAPTCHA if you are using advanced terms that robots are known to use, or sending requests very quickly.\n",
      "</div>\n",
      "\n",
      "IP address: 111.248.18.218<br/>Time: 2019-12-22T12:54:05Z<br/>URL: https://google.com/<br/>\n",
      "</div>\n",
      "</div>\n",
      "\n",
      "\n",
      "</body></html> \n",
      "\n",
      "<class 'bs4.element.NavigableString'> https://google.com/\n"
     ]
    }
   ],
   "source": [
    "r = requests.get(url)\n",
    "r.encoding = 'utf-8'\n",
    "soup = BeautifulSoup(r.text, \"html5lib\")\n",
    "print(soup, '\\n')\n",
    "title = soup.title.string\n",
    "print(type(title), title)"
   ]
  },
  {
   "cell_type": "markdown",
   "metadata": {},
   "source": [
    "## Grab + PyQuery"
   ]
  },
  {
   "cell_type": "code",
   "execution_count": 3,
   "metadata": {},
   "outputs": [
    {
     "name": "stdout",
     "output_type": "stream",
     "text": [
      "<html>\n",
      "<head><meta http-equiv=\"content-type\" content=\"text/html; charset=utf-8\"/><meta name=\"viewport\" content=\"initial-scale=1\"/><title>https://google.com/</title></head>\n",
      "<body style=\"font-family: arial, sans-serif; background-color: #fff; color: #000; padding:20px; font-size:18px;\" onload=\"e=document.getElementById('captcha');if(e){e.focus();}\">\n",
      "<div style=\"max-width:400px;\">\n",
      "<hr noshade=\"noshade\" size=\"1\" style=\"color:#ccc; background-color:#ccc;\"/><br/>\n",
      "<form id=\"captcha-form\" action=\"index\" method=\"post\">\n",
      "<script src=\"https://www.google.com/recaptcha/api.js\" async=\"\" defer=\"defer\"/>\n",
      "<script>var submitCallback = function(response) {document.getElementById('captcha-form').submit();};</script>\n",
      "<div id=\"recaptcha\" class=\"g-recaptcha\" data-sitekey=\"6LfwuyUTAAAAAOAmoS0fdqijC2PbbdH4kjq62Y1b\" data-callback=\"submitCallback\" data-s=\"gN4zdCObcGJ78frMAMcCN-5p-Dja1kupdAKjca7SHeSjZxz53vhas5pEk0m_YFP54m-43VxsOzzrCtRUcJAdCnLRcNpOJ-KmAPzvNE-xkTX9_r0b6hqEoQ1LU6w3pKcbXuV11aYwgZfDai6Iu_HZFwY0tKJYRK0jc4jjfgbIf0NNRtEznuDV8t_OyJTzc0_SPSINB6NjoChHgIA7WTFYrr6fb7nA7KuW6M1Xoi-u6t8qmfQ67LjIW0s\"/>\n",
      "<input type=\"hidden\" name=\"q\" value=\"EgRv-BLaGPPO_e8FIhkA8aeDS2o-_ymrHwBO_1QugR5AX7FWyfJ_MgFy\"/><input type=\"hidden\" name=\"continue\" value=\"https://google.com/\"/>\n",
      "</form>\n",
      "<hr noshade=\"noshade\" size=\"1\" style=\"color:#ccc; background-color:#ccc;\"/>\n",
      "\n",
      "<div style=\"font-size:13px;\">\n",
      "<b>About this page</b><br/><br/>\n",
      "\n",
      "Our systems have detected unusual traffic from your computer network.  This page checks to see if it's really you sending the requests, and not a robot.  <a href=\"#\" onclick=\"document.getElementById('infoDiv').style.display='block';\">Why did this happen?</a><br/><br/>\n",
      "\n",
      "<div id=\"infoDiv\" style=\"display:none; background-color:#eee; padding:10px; margin:0 0 15px 0; line-height:1.4em;\">\n",
      "This page appears when Google automatically detects requests coming from your computer network which appear to be in violation of the <a href=\"//www.google.com/policies/terms/\">Terms of Service</a>. The block will expire shortly after those requests stop.  In the meantime, solving the above CAPTCHA will let you continue to use our services.<br/><br/>This traffic may have been sent by malicious software, a browser plug-in, or a script that sends automated requests.  If you share your network connection, ask your administrator for help — a different computer using the same IP address may be responsible.  <a href=\"//support.google.com/websearch/answer/86640\">Learn more</a><br/><br/>Sometimes you may be asked to solve the CAPTCHA if you are using advanced terms that robots are known to use, or sending requests very quickly.\n",
      "</div>\n",
      "\n",
      "IP address: 111.248.18.218<br/>Time: 2019-12-22T12:54:11Z<br/>URL: https://google.com/<br/>\n",
      "</div>\n",
      "</div>\n",
      "</body>\n",
      "</html> \n",
      "\n",
      "<class 'pyquery.pyquery.PyQuery'> https://google.com/\n"
     ]
    }
   ],
   "source": [
    "r = g().go(url)\n",
    "doc = pq(r.body)\n",
    "print(doc, '\\n')\n",
    "title = doc('title')\n",
    "print(type(title), title.text())"
   ]
  },
  {
   "cell_type": "code",
   "execution_count": null,
   "metadata": {},
   "outputs": [],
   "source": []
  }
 ],
 "metadata": {
  "kernelspec": {
   "display_name": "Python 3",
   "language": "python",
   "name": "python3"
  },
  "language_info": {
   "codemirror_mode": {
    "name": "ipython",
    "version": 3
   },
   "file_extension": ".py",
   "mimetype": "text/x-python",
   "name": "python",
   "nbconvert_exporter": "python",
   "pygments_lexer": "ipython3",
   "version": "3.7.3"
  }
 },
 "nbformat": 4,
 "nbformat_minor": 2
}
